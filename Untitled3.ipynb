{
 "cells": [
  {
   "cell_type": "code",
   "execution_count": 1,
   "id": "9b1ed22d-df42-4c4a-b72e-c0ba50b4bd10",
   "metadata": {},
   "outputs": [],
   "source": [
    "class Character():\n",
    "    def __init__(self):\n",
    "        self.race = \"Elif\"\n",
    "    "
   ]
  },
  {
   "cell_type": "code",
   "execution_count": 2,
   "id": "32673cf2-5e50-463f-9bc2-94737a4ef0cd",
   "metadata": {},
   "outputs": [
    {
     "data": {
      "text/plain": [
       "'Elif'"
      ]
     },
     "execution_count": 2,
     "metadata": {},
     "output_type": "execute_result"
    }
   ],
   "source": [
    "c = Character()\n",
    "c.race"
   ]
  },
  {
   "cell_type": "code",
   "execution_count": 4,
   "id": "b1524a64-3c1f-4430-a268-b0394815728e",
   "metadata": {},
   "outputs": [],
   "source": [
    "class Character():\n",
    "    \n",
    "    _instance = None\n",
    "    \n",
    "    def  __new__(cls):\n",
    "        if not cls._instance:\n",
    "            cls._instance = super().__new__(cls)\n",
    "        return cls._instance\n",
    "    \n",
    "    def __init__(self):\n",
    "        self.race = \"Elif\""
   ]
  },
  {
   "cell_type": "code",
   "execution_count": 5,
   "id": "d1dd5706-7361-401e-87f8-b7dd989b20c1",
   "metadata": {},
   "outputs": [
    {
     "data": {
      "text/plain": [
       "'Elif'"
      ]
     },
     "execution_count": 5,
     "metadata": {},
     "output_type": "execute_result"
    }
   ],
   "source": [
    "c = Character()\n",
    "c.race"
   ]
  },
  {
   "cell_type": "code",
   "execution_count": 6,
   "id": "ea2631df-d943-48dd-a21f-ca331edf7c00",
   "metadata": {},
   "outputs": [],
   "source": [
    "d = Character()\n",
    "d.race = 'Ork'"
   ]
  },
  {
   "cell_type": "code",
   "execution_count": 7,
   "id": "d61c8c75-dcaa-4363-bdf7-450243070b3f",
   "metadata": {},
   "outputs": [
    {
     "name": "stdout",
     "output_type": "stream",
     "text": [
      "Ork\n",
      "Ork\n"
     ]
    }
   ],
   "source": [
    "print(d.race)\n",
    "print(c.race)"
   ]
  },
  {
   "cell_type": "code",
   "execution_count": null,
   "id": "a656331f-d3f7-45e6-96f0-49e299c17512",
   "metadata": {},
   "outputs": [],
   "source": []
  }
 ],
 "metadata": {
  "kernelspec": {
   "display_name": "Python 3 (ipykernel)",
   "language": "python",
   "name": "python3"
  },
  "language_info": {
   "codemirror_mode": {
    "name": "ipython",
    "version": 3
   },
   "file_extension": ".py",
   "mimetype": "text/x-python",
   "name": "python",
   "nbconvert_exporter": "python",
   "pygments_lexer": "ipython3",
   "version": "3.10.6"
  }
 },
 "nbformat": 4,
 "nbformat_minor": 5
}
