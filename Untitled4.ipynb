{
 "cells": [
  {
   "cell_type": "code",
   "execution_count": 9,
   "id": "e22fca8a-7661-4551-9240-725a5a93dadc",
   "metadata": {},
   "outputs": [],
   "source": [
    "class Character():\n",
    "    \n",
    "    def __init__(self, race,armor, damage = 10):\n",
    "        self.race = race\n",
    "        self.armor = armor\n",
    "        self.daoge = damage\n",
    "        self.health = 100\n",
    "        \n",
    "    def hit(self, damage):\n",
    "        self.health -= damage\n",
    "        \n",
    "    def is_dead(self):\n",
    "        return self.health == 0\n",
    "    \n",
    "    #def __getstate__(self):\n",
    "    \n",
    "    def __setstate__(self, state):\n",
    "        self.race = state.get(\"race\", \"Elf\")\n",
    "        self.damage = state.get(\"damage\", 10)\n",
    "        self.armor = state.get(\"armor\", 20)\n",
    "        self.health = state.get(\"health\", 100)"
   ]
  },
  {
   "cell_type": "code",
   "execution_count": 13,
   "id": "b1d80132-5341-4340-9ab4-c227158fbb36",
   "metadata": {},
   "outputs": [
    {
     "data": {
      "text/plain": [
       "90"
      ]
     },
     "execution_count": 13,
     "metadata": {},
     "output_type": "execute_result"
    }
   ],
   "source": [
    "c = Character(\"Elf\", 20)\n",
    "c.hit(10)\n",
    "c.health"
   ]
  },
  {
   "cell_type": "code",
   "execution_count": 14,
   "id": "c9f16920-3883-4c3b-b8d7-11caa46df9bb",
   "metadata": {},
   "outputs": [],
   "source": [
    "import pickle\n",
    "\n",
    "with open(r\"game_state.bin\", \"w+b\") as f:\n",
    "    pickle.dump(c, f)"
   ]
  },
  {
   "cell_type": "code",
   "execution_count": 15,
   "id": "bd2a8c51-3a91-4493-9307-0224f16c8c19",
   "metadata": {},
   "outputs": [
    {
     "name": "stdout",
     "output_type": "stream",
     "text": [
      "None\n"
     ]
    }
   ],
   "source": [
    "c = None\n",
    "print(c)"
   ]
  },
  {
   "cell_type": "code",
   "execution_count": 16,
   "id": "f42eb3bc-ff9a-4ec4-8299-876f24697916",
   "metadata": {},
   "outputs": [
    {
     "name": "stdout",
     "output_type": "stream",
     "text": [
      "90\n"
     ]
    }
   ],
   "source": [
    "with open(r\"game_state.bin\", \"rb\") as f:\n",
    "    c = pickle.load(f)\n",
    "    print(c.health)"
   ]
  },
  {
   "cell_type": "code",
   "execution_count": 17,
   "id": "e822ac9f-3c47-43c1-b122-75fa37722a5a",
   "metadata": {},
   "outputs": [
    {
     "name": "stdout",
     "output_type": "stream",
     "text": [
      "{'race': 'Elf', 'damage': 10, 'armor': 20, 'health': 90}\n"
     ]
    }
   ],
   "source": [
    "print(c.__dict__)"
   ]
  },
  {
   "cell_type": "code",
   "execution_count": null,
   "id": "a7e1ff5d-6275-4167-b9c1-e202c2459b74",
   "metadata": {},
   "outputs": [],
   "source": []
  }
 ],
 "metadata": {
  "kernelspec": {
   "display_name": "Python 3 (ipykernel)",
   "language": "python",
   "name": "python3"
  },
  "language_info": {
   "codemirror_mode": {
    "name": "ipython",
    "version": 3
   },
   "file_extension": ".py",
   "mimetype": "text/x-python",
   "name": "python",
   "nbconvert_exporter": "python",
   "pygments_lexer": "ipython3",
   "version": "3.10.6"
  }
 },
 "nbformat": 4,
 "nbformat_minor": 5
}
