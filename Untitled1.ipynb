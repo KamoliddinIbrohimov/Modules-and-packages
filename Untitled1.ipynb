{
 "cells": [
  {
   "cell_type": "code",
   "execution_count": 10,
   "id": "395f693a-eb95-4d9f-9d70-76f3cdadc8f9",
   "metadata": {},
   "outputs": [],
   "source": [
    "class MyStack:\n",
    "    \n",
    "    def __init__(self):\n",
    "        self.array = []\n",
    "        \n",
    "    def push(self, item):\n",
    "        self.array.append(item)\n",
    "        \n",
    "    def pop(self):\n",
    "        poped_item = self.array.pop()\n",
    "        return poped_item\n",
    "    \n",
    "    def peek(self):\n",
    "        return self.__current()\n",
    "    \n",
    "    def __current(self):\n",
    "        return self.array[self.count()-1]\n",
    "    \n",
    "    def count(self):\n",
    "        return len(self.array)\n",
    "    \n",
    "    def __iter__(self):\n",
    "        self.index = self.count()-1\n",
    "        return self\n",
    "    \n",
    "    def __next__(self):\n",
    "        if self.index < 0:\n",
    "            raise StopIteration()\n",
    "        result = self.array[self.index]\n",
    "        self.index-=1\n",
    "        return result"
   ]
  },
  {
   "cell_type": "code",
   "execution_count": 11,
   "id": "f42dc047-9870-4d1a-9e22-54fde970af2a",
   "metadata": {},
   "outputs": [],
   "source": [
    "stack = MyStack()"
   ]
  },
  {
   "cell_type": "code",
   "execution_count": 12,
   "id": "5bf6c7d0-2479-4229-a5f0-c1ccfa0e3a04",
   "metadata": {},
   "outputs": [],
   "source": [
    "stack.push(1)\n",
    "stack.push(2)\n",
    "stack.push(3)"
   ]
  },
  {
   "cell_type": "code",
   "execution_count": 13,
   "id": "198e2771-5d92-47cd-adc9-de7da5647f34",
   "metadata": {},
   "outputs": [
    {
     "data": {
      "text/plain": [
       "3"
      ]
     },
     "execution_count": 13,
     "metadata": {},
     "output_type": "execute_result"
    }
   ],
   "source": [
    "stack.pop()"
   ]
  },
  {
   "cell_type": "code",
   "execution_count": 14,
   "id": "18eda05b-b735-4e83-8c41-887da4a32d18",
   "metadata": {},
   "outputs": [
    {
     "data": {
      "text/plain": [
       "2"
      ]
     },
     "execution_count": 14,
     "metadata": {},
     "output_type": "execute_result"
    }
   ],
   "source": [
    "stack.peek()"
   ]
  },
  {
   "cell_type": "code",
   "execution_count": 15,
   "id": "eec8f838-69f0-4b7a-ab88-c3fb34229ba1",
   "metadata": {},
   "outputs": [
    {
     "data": {
      "text/plain": [
       "2"
      ]
     },
     "execution_count": 15,
     "metadata": {},
     "output_type": "execute_result"
    }
   ],
   "source": [
    "stack.count()"
   ]
  },
  {
   "cell_type": "code",
   "execution_count": 16,
   "id": "c207fd89-cacd-4bd7-9878-d80229b1de20",
   "metadata": {},
   "outputs": [],
   "source": [
    "stack.push(4)\n",
    "stack.push(5)\n",
    "stack.push(6)"
   ]
  },
  {
   "cell_type": "code",
   "execution_count": 17,
   "id": "5fb8bea9-ecd5-4472-810c-63d877fa6070",
   "metadata": {},
   "outputs": [
    {
     "name": "stdout",
     "output_type": "stream",
     "text": [
      "6\n",
      "5\n",
      "4\n",
      "2\n",
      "1\n"
     ]
    }
   ],
   "source": [
    "for i in stack:\n",
    "    print(i)"
   ]
  },
  {
   "cell_type": "code",
   "execution_count": null,
   "id": "cd8b54d1-e6f2-4593-9ffa-f1bd8a4a6221",
   "metadata": {},
   "outputs": [],
   "source": []
  }
 ],
 "metadata": {
  "kernelspec": {
   "display_name": "Python 3 (ipykernel)",
   "language": "python",
   "name": "python3"
  },
  "language_info": {
   "codemirror_mode": {
    "name": "ipython",
    "version": 3
   },
   "file_extension": ".py",
   "mimetype": "text/x-python",
   "name": "python",
   "nbconvert_exporter": "python",
   "pygments_lexer": "ipython3",
   "version": "3.10.6"
  }
 },
 "nbformat": 4,
 "nbformat_minor": 5
}
