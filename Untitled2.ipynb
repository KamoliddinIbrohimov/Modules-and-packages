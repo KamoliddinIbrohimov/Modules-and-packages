{
 "cells": [
  {
   "cell_type": "code",
   "execution_count": 1,
   "id": "3283340f-1148-4dbe-bad4-33b4c38882f4",
   "metadata": {},
   "outputs": [],
   "source": [
    "from datetime import datetime\n",
    "from datetime import date\n",
    "from datetime import time\n",
    "from datetime import timedelta"
   ]
  },
  {
   "cell_type": "code",
   "execution_count": 2,
   "id": "113505a9-a514-49e7-a3b9-15ac021b6acf",
   "metadata": {},
   "outputs": [
    {
     "name": "stdout",
     "output_type": "stream",
     "text": [
      "2019-03-12\n",
      "2019\n",
      "3\n",
      "12\n"
     ]
    }
   ],
   "source": [
    "d1 = date(2019, 3, 12)\n",
    "print(d1)\n",
    "print(d1.year)\n",
    "print(d1.month)\n",
    "print(d1.day)"
   ]
  },
  {
   "cell_type": "code",
   "execution_count": 4,
   "id": "81fc40dc-4210-4c60-9750-4c24c800b9ac",
   "metadata": {},
   "outputs": [
    {
     "name": "stdout",
     "output_type": "stream",
     "text": [
      "23:10:59\n",
      "23\n",
      "10\n",
      "59\n"
     ]
    }
   ],
   "source": [
    "t1 = time(23, 10, 59)\n",
    "print(t1)\n",
    "print(t1.hour)\n",
    "print(t1.minute)\n",
    "print(t1.second)"
   ]
  },
  {
   "cell_type": "code",
   "execution_count": 5,
   "id": "ed4bf3aa-0bfb-441a-93e4-c17bc825aeb8",
   "metadata": {},
   "outputs": [
    {
     "name": "stdout",
     "output_type": "stream",
     "text": [
      "2023-02-26\n"
     ]
    }
   ],
   "source": [
    "print(date.today())"
   ]
  },
  {
   "cell_type": "code",
   "execution_count": 6,
   "id": "c9b36b23-0502-49e9-836c-7bed19ef4b70",
   "metadata": {},
   "outputs": [
    {
     "name": "stdout",
     "output_type": "stream",
     "text": [
      "9999-12-31\n",
      "0001-01-01\n",
      "23:59:59.999999\n",
      "00:00:00\n"
     ]
    }
   ],
   "source": [
    "print(date.max)\n",
    "print(date.min)\n",
    "print(time.max)\n",
    "print(time.min)"
   ]
  },
  {
   "cell_type": "code",
   "execution_count": 7,
   "id": "6b0f3437-fb3a-4896-b65d-3090a3f89fae",
   "metadata": {},
   "outputs": [
    {
     "name": "stdout",
     "output_type": "stream",
     "text": [
      "2019-03-12 15:25:45\n"
     ]
    }
   ],
   "source": [
    "dt = datetime(2019, 3, 12, 15, 25, 45)\n",
    "print(dt)"
   ]
  },
  {
   "cell_type": "code",
   "execution_count": 10,
   "id": "e36529d7-6b3e-4700-bda9-194a9658e706",
   "metadata": {},
   "outputs": [
    {
     "name": "stdout",
     "output_type": "stream",
     "text": [
      "2019\n",
      "15\n"
     ]
    }
   ],
   "source": [
    "print(dt.date().year)\n",
    "print(dt.time().hour)"
   ]
  },
  {
   "cell_type": "code",
   "execution_count": 11,
   "id": "c7511a74-66ca-4d83-888e-4f48018f0e82",
   "metadata": {},
   "outputs": [
    {
     "name": "stdout",
     "output_type": "stream",
     "text": [
      "9999-12-31 23:59:59.999999\n",
      "0001-01-01 00:00:00\n"
     ]
    }
   ],
   "source": [
    "print(datetime.max)\n",
    "print(datetime.min)"
   ]
  },
  {
   "cell_type": "code",
   "execution_count": 12,
   "id": "1526a105-1f8e-4ee3-8980-3d42f5aafee2",
   "metadata": {},
   "outputs": [
    {
     "name": "stdout",
     "output_type": "stream",
     "text": [
      "2023-02-26 00:36:48.374821\n"
     ]
    }
   ],
   "source": [
    "now = datetime.now()\n",
    "print(now)"
   ]
  },
  {
   "cell_type": "code",
   "execution_count": 13,
   "id": "7448074e-ec2b-4c19-b193-ef1379e13272",
   "metadata": {},
   "outputs": [
    {
     "name": "stdout",
     "output_type": "stream",
     "text": [
      "2023\n",
      "2\n"
     ]
    }
   ],
   "source": [
    "print(now.year)\n",
    "print(now.month)"
   ]
  },
  {
   "cell_type": "code",
   "execution_count": 14,
   "id": "637561fa-a80e-47fa-850e-58261cae6739",
   "metadata": {},
   "outputs": [
    {
     "name": "stdout",
     "output_type": "stream",
     "text": [
      "2018-02-26 00:36:48.374821\n"
     ]
    }
   ],
   "source": [
    "new_dt = now.replace(year=2018)\n",
    "print(new_dt)"
   ]
  },
  {
   "cell_type": "code",
   "execution_count": 15,
   "id": "208f3683-46b5-4290-a62e-b772c7ed8dc0",
   "metadata": {},
   "outputs": [
    {
     "name": "stdout",
     "output_type": "stream",
     "text": [
      "2023-02-26 00:36:48.374821\n"
     ]
    }
   ],
   "source": [
    "print(now)"
   ]
  },
  {
   "cell_type": "code",
   "execution_count": 19,
   "id": "11fdd710-7d8b-4c24-9f51-295bcd35b810",
   "metadata": {},
   "outputs": [
    {
     "name": "stdout",
     "output_type": "stream",
     "text": [
      "2018-08-30 00:00:00\n",
      "2018-03-29 10:40:00\n",
      "2018-06-28 09:20:00\n",
      "2018-06-12 00:00:00\n"
     ]
    }
   ],
   "source": [
    "dt = datetime.strptime(\"30/08/2018\", \"%d/%m/%Y\")\n",
    "print(dt)\n",
    "\n",
    "dt = datetime.strptime(\"29/03/2018 10:40\", \"%d/%m/%Y %H:%M\")\n",
    "print(dt)\n",
    "\n",
    "dt = datetime.strptime(\"06-28-2018 09:20\", \"%m-%d-%Y %H:%M\")\n",
    "print(dt)\n",
    "\n",
    "dt = datetime.strptime(\"2018-06-12\", \"%Y-%m-%d\")\n",
    "print(dt)"
   ]
  },
  {
   "cell_type": "code",
   "execution_count": 21,
   "id": "f2c7b59c-f969-4f37-a3ce-527374ae33d0",
   "metadata": {},
   "outputs": [
    {
     "data": {
      "text/plain": [
       "'LC_CTYPE=en_US.UTF-8;LC_NUMERIC=uz_UZ.UTF-8;LC_TIME=uz_UZ.UTF-8;LC_COLLATE=en_US.UTF-8;LC_MONETARY=uz_UZ.UTF-8;LC_MESSAGES=en_US.UTF-8;LC_PAPER=uz_UZ.UTF-8;LC_NAME=uz_UZ.UTF-8;LC_ADDRESS=uz_UZ.UTF-8;LC_TELEPHONE=uz_UZ.UTF-8;LC_MEASUREMENT=uz_UZ.UTF-8;LC_IDENTIFICATION=uz_UZ.UTF-8'"
      ]
     },
     "execution_count": 21,
     "metadata": {},
     "output_type": "execute_result"
    }
   ],
   "source": [
    "import locale\n",
    "locale.setlocale(locale.LC_ALL, \"\")"
   ]
  },
  {
   "cell_type": "code",
   "execution_count": 24,
   "id": "d806eb97-f115-4830-8917-893661385081",
   "metadata": {},
   "outputs": [
    {
     "name": "stdout",
     "output_type": "stream",
     "text": [
      "2023 59 26  (Yakshanba)\n",
      "2023-02-26  (Yak)\n"
     ]
    }
   ],
   "source": [
    "now = datetime.now()\n",
    "print(now.strftime('%Y %M %d  (%A)'))\n",
    "print(now.strftime('%Y-%m-%d  (%a)'))"
   ]
  },
  {
   "cell_type": "code",
   "execution_count": 25,
   "id": "991b168e-a2e5-495a-90c2-71e57c605320",
   "metadata": {},
   "outputs": [
    {
     "name": "stdout",
     "output_type": "stream",
     "text": [
      "2 days, 1:05:00\n"
     ]
    }
   ],
   "source": [
    "delta1 = timedelta(days=2, hours=1, minutes=5)\n",
    "print(delta1)"
   ]
  },
  {
   "cell_type": "code",
   "execution_count": 27,
   "id": "df4e623d-974b-4104-914a-76daedae0dc6",
   "metadata": {},
   "outputs": [],
   "source": [
    "delta2 = timedelta(days=1, hours=1, minutes=5)"
   ]
  },
  {
   "cell_type": "code",
   "execution_count": 28,
   "id": "35ef2de3-9d52-4134-8378-5f64b41926b2",
   "metadata": {},
   "outputs": [
    {
     "name": "stdout",
     "output_type": "stream",
     "text": [
      "-1 day, 0:00:00\n",
      "1 day, 0:00:00\n"
     ]
    }
   ],
   "source": [
    "print(delta2-delta1)\n",
    "print(delta1-delta2)"
   ]
  },
  {
   "cell_type": "code",
   "execution_count": 30,
   "id": "e42215eb-fc99-43d9-8a72-e501edf64144",
   "metadata": {},
   "outputs": [
    {
     "name": "stdout",
     "output_type": "stream",
     "text": [
      "<class 'datetime.timedelta'>\n",
      "34\n"
     ]
    }
   ],
   "source": [
    "my_birthday = date(1988, 8, 12)\n",
    "\n",
    "delta = date.today() - my_birthday\n",
    "print(type(delta))\n",
    "\n",
    "my_age = int(delta.days/365)\n",
    "print(my_age)"
   ]
  },
  {
   "cell_type": "code",
   "execution_count": 31,
   "id": "ec7044fb-4b83-4950-b8f7-bfce50954164",
   "metadata": {},
   "outputs": [
    {
     "name": "stdout",
     "output_type": "stream",
     "text": [
      "True\n"
     ]
    }
   ],
   "source": [
    "wifi_birthday = date(1990, 9, 6)\n",
    "\n",
    "am_i_order = my_birthday < wifi_birthday\n",
    "print(am_i_order)"
   ]
  },
  {
   "cell_type": "code",
   "execution_count": null,
   "id": "8fcd80c7-2098-4849-a996-f54f54ffc797",
   "metadata": {},
   "outputs": [],
   "source": []
  }
 ],
 "metadata": {
  "kernelspec": {
   "display_name": "Python 3 (ipykernel)",
   "language": "python",
   "name": "python3"
  },
  "language_info": {
   "codemirror_mode": {
    "name": "ipython",
    "version": 3
   },
   "file_extension": ".py",
   "mimetype": "text/x-python",
   "name": "python",
   "nbconvert_exporter": "python",
   "pygments_lexer": "ipython3",
   "version": "3.10.6"
  }
 },
 "nbformat": 4,
 "nbformat_minor": 5
}
